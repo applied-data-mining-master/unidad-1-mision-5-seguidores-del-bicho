{
 "cells": [
  {
   "cell_type": "markdown",
   "metadata": {},
   "source": [
    "# Exercise 1.04: Tic-Tac-Toe Static Evaluation with a Heuristic Function\n",
    "In this exercise, you will be performing a static evaluation on the tic-tac-toe game using a heuristic function."
   ]
  },
  {
   "cell_type": "markdown",
   "metadata": {},
   "source": [
    "1.- Reuse the code from Steps 1–5 of Activity 1.01"
   ]
  },
  {
   "cell_type": "code",
   "execution_count": null,
   "metadata": {},
   "outputs": [],
   "source": []
  },
  {
   "cell_type": "markdown",
   "metadata": {},
   "source": [
    "2.- Create a function that takes the board as input and returns $0$ if the cell is empty, and $-1$ if it's not empty"
   ]
  },
  {
   "cell_type": "code",
   "execution_count": null,
   "metadata": {},
   "outputs": [],
   "source": []
  },
  {
   "cell_type": "markdown",
   "metadata": {},
   "source": [
    "3.- Create a function that takes the utility vector of possible moves, takes three indices inside the utility vector representing a triple, and returns a function.\n",
    "\n",
    "  > **Hints**  \n",
    "  > the returned function will expect a `points` parameter and the `utilities` vector as input and will add points to each cell in $(i, j, k)$, as long as the original value of that cell is non-negative $(>=0)$. In other words, we increased the utility of empty cells only."
   ]
  },
  {
   "cell_type": "code",
   "execution_count": null,
   "metadata": {},
   "outputs": [],
   "source": []
  },
  {
   "cell_type": "markdown",
   "metadata": {},
   "source": [
    "4.- Now, create the utility matrix belonging to any board constellation where you will add the `generate_add_score` function defined previously to update the score. You will also implement the rules that we discussed prior to this activity. These rules are as follows:\n",
    "  * Two AI signs in a row, column, or diagonal, and the third cell is empty: +1000 for the empty cell.\n",
    "  * The opponent has two signs in a row, column, or diagonal, and the third cell is empty: +100 for the empty cell.\n",
    "  * One AI sign in a row, column, or diagonal, and the other two cells are empty: +10 for the empty cells.\n",
    "  * No AI or opponent signs in a row, column, or diagonal: +1 for the empty cells."
   ]
  },
  {
   "cell_type": "code",
   "execution_count": null,
   "metadata": {},
   "outputs": [],
   "source": []
  },
  {
   "cell_type": "markdown",
   "metadata": {},
   "source": [
    "5.- Create a function that selects the move with the highest utility value. If multiple moves have the same utility, the function returns both moves"
   ]
  },
  {
   "cell_type": "code",
   "execution_count": null,
   "metadata": {},
   "outputs": [],
   "source": []
  },
  {
   "cell_type": "markdown",
   "metadata": {},
   "source": [
    "6.- Run the application.\n",
    "\n",
    "Output:\n",
    "\n",
    "```\n",
    "step 0. Moves: 1\n",
    "step 1. Moves: 1\n",
    "step 2. Moves: 8\n",
    "step 3. Moves: 24\n",
    "step 4. Moves: 144\n",
    "step 5. Moves: 83\n",
    "step 6. Moves: 214\n",
    "step 7. Moves: 148\n",
    "step 8. Moves: 172\n",
    "First player wins: 504\n",
    "Second player wins: 12\n",
    "Draw 91\n",
    "Total 607\n",
    "```"
   ]
  },
  {
   "cell_type": "code",
   "execution_count": null,
   "metadata": {},
   "outputs": [],
   "source": []
  },
  {
   "cell_type": "markdown",
   "metadata": {},
   "source": [
    "By completing this exercise, we have observed that the AI is underperforming compared to our previous activity, Activity 1.03, Fixing the First and Second Moves of the AI to Make It Invincible. In this situation, hardcoding the first two moves was better than setting up the heuristic, but this is because we haven't set up the heuristic properly."
   ]
  },
  {
   "cell_type": "code",
   "execution_count": null,
   "metadata": {},
   "outputs": [],
   "source": []
  }
 ],
 "metadata": {
  "kernelspec": {
   "display_name": "Python 3",
   "language": "python",
   "name": "python3"
  },
  "language_info": {
   "codemirror_mode": {
    "name": "ipython",
    "version": 3
   },
   "file_extension": ".py",
   "mimetype": "text/x-python",
   "name": "python",
   "nbconvert_exporter": "python",
   "pygments_lexer": "ipython3",
   "version": "3.8.5"
  }
 },
 "nbformat": 4,
 "nbformat_minor": 4
}
