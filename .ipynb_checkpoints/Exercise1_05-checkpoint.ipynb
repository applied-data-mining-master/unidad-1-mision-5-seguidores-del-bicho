{
 "cells": [
  {
   "cell_type": "markdown",
   "metadata": {},
   "source": [
    "# Exercise 1.05: Finding the Shortest Path Using BFS\n",
    "\n",
    "In this exercise, we will be finding the shortest path to our goal using the BFS algorithm."
   ]
  },
  {
   "cell_type": "markdown",
   "metadata": {},
   "source": [
    "1.- Begin by importing the math library"
   ]
  },
  {
   "cell_type": "code",
   "execution_count": null,
   "metadata": {},
   "outputs": [],
   "source": []
  },
  {
   "cell_type": "markdown",
   "metadata": {},
   "source": [
    "2.- Describe the board of the Figure 1.14, the initial state, and the final state using Python.\n",
    "\n",
    "  > **Hints**  \n",
    "  >  * Create a function that returns a list of possible successors. Use tuples, where the first coordinate denotes the row number from $1$ to $7$ and the second coordinate denotes the column number from $1$ to $9$. Then use array comprehension to generate the successor states.\n",
    "  >  * The function generate all the possible moves from a current field that does not end up being blocked by an obstacle. Also add a filter to exclude moves that return to a field visited already to avoid infinite loops.\n",
    "  "
   ]
  },
  {
   "cell_type": "code",
   "execution_count": null,
   "metadata": {},
   "outputs": [],
   "source": []
  },
  {
   "cell_type": "markdown",
   "metadata": {},
   "source": [
    "3.-  Implement the initial costs"
   ]
  },
  {
   "cell_type": "code",
   "execution_count": null,
   "metadata": {},
   "outputs": [],
   "source": []
  },
  {
   "cell_type": "markdown",
   "metadata": {},
   "source": [
    "4.- Implement the updated costs using `costs`, `current_node`, and `successor_node`"
   ]
  },
  {
   "cell_type": "code",
   "execution_count": null,
   "metadata": {},
   "outputs": [],
   "source": []
  },
  {
   "cell_type": "markdown",
   "metadata": {},
   "source": [
    "5.- Finally, implement the BFS algorithm to search the state of the tree and save the result in a variable called `bfs`.\n",
    "\n",
    "  > **Hints**  \n",
    "  > You can reuse the `bfs_tree` function that we looked at earlier in the Breadth First Search section. However, add the `update_costs` function to update the costs.\n",
    "\n",
    "The expected output is this:\n",
    "\n",
    "```\n",
    "[[6, 5, 4, 5, 6, 7, 8, 9, 10],\n",
    " [5, 4, 3, 4, 5, 6, 7, 8, 9],\n",
    " [4, 3, 2, inf, inf, inf, inf, inf, 10],\n",
    " [3, 2, 1, 2, inf, 12, 13, 12, 11],\n",
    " [2, 1, 0, 1, inf, 11, inf, 13, inf],\n",
    " [3, inf, inf, inf, inf, 10, inf, 14, 15],\n",
    " [4, 5, 6, 7, 8, 9, inf, 15, 16]]\n",
    "```"
   ]
  },
  {
   "cell_type": "code",
   "execution_count": null,
   "metadata": {},
   "outputs": [],
   "source": []
  },
  {
   "cell_type": "markdown",
   "metadata": {},
   "source": [
    "6.- Measure the number of steps required to find the goal node and save the result in the bfs_v variable.\n",
    "\n",
    "  > **Hints**  \n",
    "  > Re define the `bfs_tree` and add a step counter variable in order to print the number of steps at the end of the search\n",
    "  \n",
    "Output\n",
    "\n",
    "```\n",
    "End node has been reached in 110 steps\n",
    "[[6, 5, 4, 5, 6, 7, 8, 9, 10],\n",
    " [5, 4, 3, 4, 5, 6, 7, 8, 9],\n",
    " [4, 3, 2, inf, inf, inf, inf, inf, 10],\n",
    " [3, 2, 1, 2, inf, 12, 13, 12, 11],\n",
    " [2, 1, 0, 1, inf, 11, inf, 13, inf],\n",
    " [3, inf, inf, inf, inf, 10, inf, 14, 15],\n",
    " [4, 5, 6, 7, 8, 9, inf, 15, 16]]\n",
    "```"
   ]
  },
  {
   "cell_type": "code",
   "execution_count": null,
   "metadata": {},
   "outputs": [],
   "source": []
  },
  {
   "cell_type": "markdown",
   "metadata": {},
   "source": [
    "In this exercise, we used the BFS algorithm to find the shortest path to the goal. It took BFS 110 steps to reach the goal. Now, we will learn about an algorithm that can find the shortest path from the start node to the goal node: the A* algorithm."
   ]
  },
  {
   "cell_type": "code",
   "execution_count": null,
   "metadata": {},
   "outputs": [],
   "source": []
  }
 ],
 "metadata": {
  "kernelspec": {
   "display_name": "Python 3",
   "language": "python",
   "name": "python3"
  },
  "language_info": {
   "codemirror_mode": {
    "name": "ipython",
    "version": 3
   },
   "file_extension": ".py",
   "mimetype": "text/x-python",
   "name": "python",
   "nbconvert_exporter": "python",
   "pygments_lexer": "ipython3",
   "version": "3.8.5"
  }
 },
 "nbformat": 4,
 "nbformat_minor": 4
}
