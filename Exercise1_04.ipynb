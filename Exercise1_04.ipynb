{
 "cells": [
  {
   "cell_type": "markdown",
   "metadata": {},
   "source": [
    "# Exercise 1.04: Tic-Tac-Toe Static Evaluation with a Heuristic Function\n",
    "In this exercise, you will be performing a static evaluation on the tic-tac-toe game using a heuristic function."
   ]
  },
  {
   "cell_type": "markdown",
   "metadata": {},
   "source": [
    "1.- Reuse the code from Steps 1–5 of Activity 1.01"
   ]
  },
  {
   "cell_type": "code",
   "execution_count": 1,
   "metadata": {},
   "outputs": [],
   "source": [
    "from random import choice\n",
    "\n",
    "combos_index = [ \n",
    "    [0, 1, 2],\n",
    "    [0, 3, 6],\n",
    "    [0, 4, 8],\n",
    "    [1, 4, 7],\n",
    "    [2, 4, 6],\n",
    "    [2, 5, 8],\n",
    "    [3, 4, 5],\n",
    "    [6, 7, 8]\n",
    "]\n",
    "\n",
    "vacio = '?'\n",
    "IA = 'O'\n",
    "yo = 'X'\n",
    "\n",
    "\n",
    "def imprimir(tablero):\n",
    "    print(\" \")\n",
    "    print(' '.join(tablero[:3]))\n",
    "    print(' '.join(tablero[3:6]))\n",
    "    print(' '.join(tablero[6:]))\n",
    "    print(\" \")\n",
    "    \n",
    "    \n",
    "def moverJugador(tablero, fila, columna):\n",
    "    index = 3 * (fila - 1) + (columna - 1)\n",
    "    if tablero[index] == vacio:\n",
    "        return tablero[:index] + vacio + tablero[index + 1:]\n",
    "\n",
    "    return tablero\n",
    "\n",
    "\n",
    "def movimientos(tablero, sign):\n",
    "    boards = list()\n",
    "    \n",
    "    for i, v in enumerate(tablero):\n",
    "        if v == vacio:\n",
    "            boards.append(tablero[:i] + sign + tablero[i+1:])\n",
    "    \n",
    "    return boards\n",
    "\n",
    "\n",
    "def IAMov(tablero):\n",
    "    return choice(movimientos(tablero, IA))\n",
    "\n",
    "\n",
    "def ganarJuego(tablero):\n",
    "    for combo_index in combos_index:\n",
    "        if tablero[combo_index[0]] == tablero[combo_index[1]] == tablero[combo_index[2]] != vacio:\n",
    "            return tablero[combo_index[0]]\n",
    "\n",
    "    return vacio\n",
    "\n",
    "\n",
    "def game_loop():\n",
    "    tablero = vacio * 9\n",
    "    juegoTerminado = False\n",
    "\n",
    "    while tablero.count(vacio) != 0 and not juegoTerminado:\n",
    "        if tablero.count(vacio) % 2 == 0:\n",
    "            tablero = IAMov(tablero)\n",
    "        else:\n",
    "            row = int(input('Fila: '))\n",
    "            col = int(input('Columna: '))\n",
    "            tablero = moverJugador(tablero, row, col)\n",
    "\n",
    "        imprimir(tablero)\n",
    "        sign_flag = ganarJuego(tablero)\n",
    "\n",
    "        if sign_flag != vacio:\n",
    "            juegoTerminado = True\n",
    "\n",
    "            if sign_flag == IA:\n",
    "                print(\"IA ganadora\")\n",
    "            else:\n",
    "                print(\"Jugador ganador\")\n",
    "                \n",
    "\n",
    "def movimient(boards, sign):\n",
    "    listaMov = list()\n",
    "\n",
    "    for tablero in boards:\n",
    "        listaMov.extend(movimientos(tablero, sign))\n",
    "\n",
    "    return listaMov\n",
    "\n",
    "\n",
    "def filter_wins(boards, tablaIA, tablaYo):\n",
    "    for tablero in boards:\n",
    "        if ganarJuego(tablero) == IA:\n",
    "            tablaIA.append(tablero)\n",
    "            boards.remove(tablero)\n",
    "        \n",
    "        elif ganarJuego(tablero) == yo:\n",
    "            tablaYo.append(tablero)\n",
    "            boards.remove(tablero)\n",
    "\n",
    "    return boards, tablaIA, tablaYo\n",
    "\n",
    "\n",
    "def count_possibilities():\n",
    "    boards = [vacio * 9]\n",
    "    tablaIA = list()\n",
    "    tablaYo = list()\n",
    "\n",
    "    for i in range(9):\n",
    "        print(f'Step: ' + str(i) + '. Moves: ' + str(len(boards)))\n",
    "        sign = IA if i % 2 == 0 else yo\n",
    "        \n",
    "        boards = movimient(boards, sign)\n",
    "        filter_wins(boards, tablaIA, tablaYo)\n",
    "        \n",
    "    print('First player wins: ' + str(len(tablaIA)))\n",
    "    print('Second player wins: ' + str(len(tablaYo)))\n",
    "    print('Draw', str(len(boards)))\n",
    "    print('Total', str(len(tablaIA) + len(tablaYo) + len(boards)))\n",
    "    "
   ]
  },
  {
   "cell_type": "markdown",
   "metadata": {},
   "source": [
    "2.- Create a function that takes the board as input and returns $0$ if the cell is empty, and $-1$ if it's not empty"
   ]
  },
  {
   "cell_type": "code",
   "execution_count": 2,
   "metadata": {},
   "outputs": [],
   "source": [
    "def iniciarUtilidad(tablero):\n",
    "    return [0 if cell == vacio else -1 for cell in tablero]"
   ]
  },
  {
   "cell_type": "markdown",
   "metadata": {},
   "source": [
    "3.- Create a function that takes the utility vector of possible moves, takes three indices inside the utility vector representing a triple, and returns a function.\n",
    "\n",
    "  > **Hints**  \n",
    "  > the returned function will expect a `points` parameter and the `utilities` vector as input and will add points to each cell in $(i, j, k)$, as long as the original value of that cell is non-negative $(>=0)$. In other words, we increased the utility of empty cells only."
   ]
  },
  {
   "cell_type": "code",
   "execution_count": 3,
   "metadata": {},
   "outputs": [],
   "source": [
    "def generate_add_score(utilities, i, j, k):\n",
    "    def add_score(points):\n",
    "        if utilities[i] >= 0:\n",
    "            utilities[i] += points\n",
    "        if utilities[j] >= 0:\n",
    "            utilities[j] += points\n",
    "        if utilities[k] >= 0:\n",
    "            utilities[k] += points\n",
    "    return add_score\n"
   ]
  },
  {
   "cell_type": "markdown",
   "metadata": {},
   "source": [
    "4.- Now, create the utility matrix belonging to any board constellation where you will add the `generate_add_score` function defined previously to update the score. You will also implement the rules that we discussed prior to this activity. These rules are as follows:\n",
    "  * Two AI signs in a row, column, or diagonal, and the third cell is empty: +1000 for the empty cell.\n",
    "  * The opponent has two signs in a row, column, or diagonal, and the third cell is empty: +100 for the empty cell.\n",
    "  * One AI sign in a row, column, or diagonal, and the other two cells are empty: +10 for the empty cells.\n",
    "  * No AI or opponent signs in a row, column, or diagonal: +1 for the empty cells."
   ]
  },
  {
   "cell_type": "code",
   "execution_count": 4,
   "metadata": {},
   "outputs": [],
   "source": [
    "def matrizUtilidad(tablero):\n",
    "    utilities = iniciarUtilidad(tablero)\n",
    "    \n",
    "    for [i, j, k] in combos_index:\n",
    "        add_score = generate_add_score(utilities, i, j, k)\n",
    "        triple = [tablero[i], tablero[j], tablero[k]]\n",
    "    \n",
    "        if triple.count(vacio) == 1:\n",
    "        \n",
    "            if triple.count(IA) == 2:\n",
    "                add_score(1000)\n",
    "            \n",
    "            elif triple.count(yo) == 2:\n",
    "                add_score(100)\n",
    "        \n",
    "        elif triple.count(vacio) == 2 and triple.count(IA) == 1:\n",
    "            add_score(10)\n",
    "        \n",
    "        elif triple.count(vacio) == 3:\n",
    "            add_score(1)\n",
    "            \n",
    "    return utilities"
   ]
  },
  {
   "cell_type": "markdown",
   "metadata": {},
   "source": [
    "5.- Create a function that selects the move with the highest utility value. If multiple moves have the same utility, the function returns both moves"
   ]
  },
  {
   "cell_type": "code",
   "execution_count": 5,
   "metadata": {},
   "outputs": [],
   "source": [
    "def mejoresMovs(tablero, sign):\n",
    "    boards = []\n",
    "    utilities = matrizUtilidad(tablero)\n",
    "    maUtil = max(utilities)\n",
    "    \n",
    "    for i, v in enumerate(tablero):\n",
    "        if utilities[i] == maUtil:\n",
    "            boards.append(tablero[:i] + sign + tablero[i+1:])\n",
    "    \n",
    "    return boards\n",
    "\n",
    "def movimient(boards, sign):\n",
    "    listaMov = list()\n",
    "    conseguirMov = mejoresMovs if sign == IA else movimientos\n",
    "    \n",
    "    for tablero in boards:\n",
    "        listaMov.extend(conseguirMov(tablero, sign))\n",
    "        \n",
    "    return listaMov"
   ]
  },
  {
   "cell_type": "markdown",
   "metadata": {},
   "source": [
    "6.- Run the application.\n",
    "\n",
    "Output:\n",
    "\n",
    "```\n",
    "step 0. Moves: 1\n",
    "step 1. Moves: 1\n",
    "step 2. Moves: 8\n",
    "step 3. Moves: 24\n",
    "step 4. Moves: 144\n",
    "step 5. Moves: 83\n",
    "step 6. Moves: 214\n",
    "step 7. Moves: 148\n",
    "step 8. Moves: 172\n",
    "First player wins: 504\n",
    "Second player wins: 12\n",
    "Draw 91\n",
    "Total 607\n",
    "```"
   ]
  },
  {
   "cell_type": "code",
   "execution_count": 6,
   "metadata": {
    "scrolled": true
   },
   "outputs": [
    {
     "name": "stdout",
     "output_type": "stream",
     "text": [
      "Step: 0. Moves: 1\n",
      "Step: 1. Moves: 1\n",
      "Step: 2. Moves: 8\n",
      "Step: 3. Moves: 24\n",
      "Step: 4. Moves: 144\n",
      "Step: 5. Moves: 83\n",
      "Step: 6. Moves: 214\n",
      "Step: 7. Moves: 148\n",
      "Step: 8. Moves: 172\n",
      "First player wins: 504\n",
      "Second player wins: 12\n",
      "Draw 91\n",
      "Total 607\n"
     ]
    }
   ],
   "source": [
    "count_possibilities()"
   ]
  },
  {
   "cell_type": "markdown",
   "metadata": {},
   "source": [
    "By completing this exercise, we have observed that the AI is underperforming compared to our previous activity, Activity 1.03, Fixing the First and Second Moves of the AI to Make It Invincible. In this situation, hardcoding the first two moves was better than setting up the heuristic, but this is because we haven't set up the heuristic properly."
   ]
  }
 ],
 "metadata": {
  "kernelspec": {
   "display_name": "Python 3",
   "language": "python",
   "name": "python3"
  },
  "language_info": {
   "codemirror_mode": {
    "name": "ipython",
    "version": 3
   },
   "file_extension": ".py",
   "mimetype": "text/x-python",
   "name": "python",
   "nbconvert_exporter": "python",
   "pygments_lexer": "ipython3",
   "version": "3.8.5"
  }
 },
 "nbformat": 4,
 "nbformat_minor": 4
}
